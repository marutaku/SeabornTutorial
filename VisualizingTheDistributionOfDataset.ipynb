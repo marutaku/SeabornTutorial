{
 "cells": [
  {
   "cell_type": "code",
   "execution_count": 1,
   "metadata": {},
   "outputs": [],
   "source": [
    "import numpy as np\n",
    "import pandas as pd\n",
    "from scipy import stats, integrate\n",
    "import matplotlib.pyplot as plt"
   ]
  },
  {
   "cell_type": "code",
   "execution_count": 5,
   "metadata": {},
   "outputs": [],
   "source": [
    "import seaborn as sns\n",
    "sns.set(color_codes=True)"
   ]
  },
  {
   "cell_type": "code",
   "execution_count": 3,
   "metadata": {},
   "outputs": [],
   "source": [
    "%matplotlib inline"
   ]
  },
  {
   "cell_type": "code",
   "execution_count": 6,
   "metadata": {},
   "outputs": [],
   "source": [
    "np.random.seed(sum(map(ord, \"distributions\")))"
   ]
  },
  {
   "cell_type": "markdown",
   "metadata": {},
   "source": [
    "Seabornを用いてたん変量分布を見るもっとも簡単な方法は、`distplot()`関数です  \n",
    "デフォルトでは、ヒストグラムを描き、[カーネル密度推定に適合します](https://ja.wikipedia.org/wiki/%E3%82%AB%E3%83%BC%E3%83%8D%E3%83%AB%E5%AF%86%E5%BA%A6%E6%8E%A8%E5%AE%9A)"
   ]
  },
  {
   "cell_type": "code",
   "execution_count": 8,
   "metadata": {},
   "outputs": [
    {
     "data": {
      "text/plain": [
       "<matplotlib.axes._subplots.AxesSubplot at 0x10980c7f0>"
      ]
     },
     "execution_count": 8,
     "metadata": {},
     "output_type": "execute_result"
    },
    {
     "data": {
      "image/png": "[encoded data removed]",
      "text/plain": [
       "<matplotlib.figure.Figure at 0x10977ef98>"
      ]
     },
     "metadata": {},
     "output_type": "display_data"
    }
   ],
   "source": [
    "x = np.random.normal(size=100)\n",
    "sns.distplot(x)"
   ]
  },
  {
   "cell_type": "code",
   "execution_count": null,
   "metadata": {},
   "outputs": [],
   "source": [
    "ヒストグラムは有名で、matplotlibにはすでに関数があります。　　\n",
    "密度関数を削除して、各観察時に小さな垂直のメモリを表示するラグプロットを追加します　　\n",
    "ラグ"
   ]
  },
  {
   "cell_type": "code",
   "execution_count": 9,
   "metadata": {},
   "outputs": [
    {
     "data": {
      "text/plain": [
       "<matplotlib.axes._subplots.AxesSubplot at 0x1098cdb00>"
      ]
     },
     "execution_count": 9,
     "metadata": {},
     "output_type": "execute_result"
    },
    {
     "data": {
      "image/png": "[encoded data removed]",
      "text/plain": [
       "<matplotlib.figure.Figure at 0x10977eac8>"
      ]
     },
     "metadata": {},
     "output_type": "display_data"
    }
   ],
   "source": [
    "sns.distplot(x, kde=False, rug=True)"
   ]
  },
  {
   "cell_type": "code",
   "execution_count": 12,
   "metadata": {},
   "outputs": [
    {
     "data": {
      "text/plain": [
       "array([ 0.42852369,  1.19133255, -0.45820746, -1.85860798,  1.02445299,\n",
       "        0.69330216,  0.78849804,  0.38978006,  0.28186484,  2.87595634,\n",
       "       -0.47628215,  1.68025623, -0.39550873, -0.31309963, -1.08837344,\n",
       "        1.35804163,  0.99799477, -1.56900497,  0.45547916, -1.21679124,\n",
       "       -0.75801737, -0.07849588, -0.10971737,  0.81419187,  0.85226952,\n",
       "        0.63110924, -0.00947497,  0.89289944,  1.38285579, -1.49399717,\n",
       "        0.47088875, -0.01288971, -0.44335464,  2.14135081, -1.30731012,\n",
       "        0.85712756, -1.33106341,  2.02990049,  0.4914988 ,  1.13272871,\n",
       "        0.31018322, -0.68251238, -1.03515012,  0.92090423, -0.2528402 ,\n",
       "        0.04264866,  0.12932479,  0.22791984,  0.27501328,  2.25623038,\n",
       "        0.86225469,  0.83121643, -1.02652783, -0.57345982,  0.44343461,\n",
       "       -0.23975428, -0.78221362,  0.9580867 ,  0.46108662, -0.03729805,\n",
       "       -0.15460078,  0.68695857,  0.42026656, -0.19984644, -1.83236953,\n",
       "       -0.6656998 , -1.31992855, -0.36497473,  0.17610984, -0.54795825,\n",
       "       -0.52560693,  0.19350884, -0.93389106, -0.99318536, -0.38978803,\n",
       "        0.0071343 ,  0.94001567,  1.1012718 , -0.05460403, -1.09726954,\n",
       "        0.27576366, -0.6408722 , -0.04275091, -1.34058837, -0.91975866,\n",
       "        0.0297272 ,  1.10771714, -0.59058897,  0.78724338, -0.1892485 ,\n",
       "       -1.35383408, -0.32915806,  0.13750629,  0.03163861, -0.14147848,\n",
       "        0.44890715,  0.5304522 ,  0.28049403,  1.40108737, -0.17444868])"
      ]
     },
     "execution_count": 12,
     "metadata": {},
     "output_type": "execute_result"
    }
   ],
   "source": []
  },
  {
   "cell_type": "code",
   "execution_count": null,
   "metadata": {},
   "outputs": [],
   "source": []
  }
 ],
 "metadata": {
  "kernelspec": {
   "display_name": "Python 3",
   "language": "python",
   "name": "python3"
  },
  "language_info": {
   "codemirror_mode": {
    "name": "ipython",
    "version": 3
   },
   "file_extension": ".py",
   "mimetype": "text/x-python",
   "name": "python",
   "nbconvert_exporter": "python",
   "pygments_lexer": "ipython3",
   "version": "3.5.0"
  }
 },
 "nbformat": 4,
 "nbformat_minor": 2
}
